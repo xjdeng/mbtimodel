{
  "nbformat": 4,
  "nbformat_minor": 0,
  "metadata": {
    "colab": {
      "provenance": [],
      "authorship_tag": "ABX9TyPKsQo+0fD6h4XrVD56H0Tp",
      "include_colab_link": true
    },
    "kernelspec": {
      "name": "python3",
      "display_name": "Python 3"
    },
    "language_info": {
      "name": "python"
    }
  },
  "cells": [
    {
      "cell_type": "markdown",
      "metadata": {
        "id": "view-in-github",
        "colab_type": "text"
      },
      "source": [
        "<a href=\"https://colab.research.google.com/github/xjdeng/mbtimodel/blob/main/mbti_model_reddit.ipynb\" target=\"_parent\"><img src=\"https://colab.research.google.com/assets/colab-badge.svg\" alt=\"Open In Colab\"/></a>"
      ]
    },
    {
      "cell_type": "code",
      "execution_count": 1,
      "metadata": {
        "colab": {
          "base_uri": "https://localhost:8080/"
        },
        "id": "oDj3PupYtoS_",
        "outputId": "df45b8b3-ca38-4b26-ba50-481198e4cc70"
      },
      "outputs": [
        {
          "output_type": "stream",
          "name": "stdout",
          "text": [
            "Cloning into 'mbtimodel'...\n",
            "remote: Enumerating objects: 24, done.\u001b[K\n",
            "remote: Counting objects: 100% (24/24), done.\u001b[K\n",
            "remote: Compressing objects: 100% (22/22), done.\u001b[K\n",
            "remote: Total 24 (delta 6), reused 0 (delta 0), pack-reused 0 (from 0)\u001b[K\n",
            "Receiving objects: 100% (24/24), 25.19 MiB | 13.14 MiB/s, done.\n",
            "Resolving deltas: 100% (6/6), done.\n",
            "Collecting praw\n",
            "  Downloading praw-7.8.1-py3-none-any.whl.metadata (9.4 kB)\n",
            "Collecting prawcore<3,>=2.4 (from praw)\n",
            "  Downloading prawcore-2.4.0-py3-none-any.whl.metadata (5.0 kB)\n",
            "Collecting update_checker>=0.18 (from praw)\n",
            "  Downloading update_checker-0.18.0-py3-none-any.whl.metadata (2.3 kB)\n",
            "Requirement already satisfied: websocket-client>=0.54.0 in /usr/local/lib/python3.10/dist-packages (from praw) (1.8.0)\n",
            "Requirement already satisfied: requests<3.0,>=2.6.0 in /usr/local/lib/python3.10/dist-packages (from prawcore<3,>=2.4->praw) (2.32.3)\n",
            "Requirement already satisfied: charset-normalizer<4,>=2 in /usr/local/lib/python3.10/dist-packages (from requests<3.0,>=2.6.0->prawcore<3,>=2.4->praw) (3.4.0)\n",
            "Requirement already satisfied: idna<4,>=2.5 in /usr/local/lib/python3.10/dist-packages (from requests<3.0,>=2.6.0->prawcore<3,>=2.4->praw) (3.10)\n",
            "Requirement already satisfied: urllib3<3,>=1.21.1 in /usr/local/lib/python3.10/dist-packages (from requests<3.0,>=2.6.0->prawcore<3,>=2.4->praw) (2.2.3)\n",
            "Requirement already satisfied: certifi>=2017.4.17 in /usr/local/lib/python3.10/dist-packages (from requests<3.0,>=2.6.0->prawcore<3,>=2.4->praw) (2024.8.30)\n",
            "Downloading praw-7.8.1-py3-none-any.whl (189 kB)\n",
            "\u001b[2K   \u001b[90m━━━━━━━━━━━━━━━━━━━━━━━━━━━━━━━━━━━━━━━━\u001b[0m \u001b[32m189.3/189.3 kB\u001b[0m \u001b[31m3.7 MB/s\u001b[0m eta \u001b[36m0:00:00\u001b[0m\n",
            "\u001b[?25hDownloading prawcore-2.4.0-py3-none-any.whl (17 kB)\n",
            "Downloading update_checker-0.18.0-py3-none-any.whl (7.0 kB)\n",
            "Installing collected packages: update_checker, prawcore, praw\n",
            "Successfully installed praw-7.8.1 prawcore-2.4.0 update_checker-0.18.0\n",
            "Requirement already satisfied: scikit-learn==1.5.2 in /usr/local/lib/python3.10/dist-packages (from -r mbtimodel/requirements.txt (line 1)) (1.5.2)\n",
            "Requirement already satisfied: numpy>=1.19.5 in /usr/local/lib/python3.10/dist-packages (from scikit-learn==1.5.2->-r mbtimodel/requirements.txt (line 1)) (1.26.4)\n",
            "Requirement already satisfied: scipy>=1.6.0 in /usr/local/lib/python3.10/dist-packages (from scikit-learn==1.5.2->-r mbtimodel/requirements.txt (line 1)) (1.13.1)\n",
            "Requirement already satisfied: joblib>=1.2.0 in /usr/local/lib/python3.10/dist-packages (from scikit-learn==1.5.2->-r mbtimodel/requirements.txt (line 1)) (1.4.2)\n",
            "Requirement already satisfied: threadpoolctl>=3.1.0 in /usr/local/lib/python3.10/dist-packages (from scikit-learn==1.5.2->-r mbtimodel/requirements.txt (line 1)) (3.5.0)\n"
          ]
        }
      ],
      "source": [
        "!git clone https://github.com/xjdeng/mbtimodel\n",
        "!pip install praw\n",
        "!pip install -r mbtimodel/requirements.txt"
      ]
    },
    {
      "cell_type": "code",
      "source": [
        "import joblib\n",
        "import praw\n",
        "from google.colab import userdata\n",
        "import bs4\n",
        "import markdown\n",
        "import re\n",
        "import pandas as pd\n",
        "import praw\n",
        "from prawcore.exceptions import NotFound\n",
        "import string\n",
        "table = str.maketrans('', '', string.punctuation)"
      ],
      "metadata": {
        "id": "SVCCuRL5t2To"
      },
      "execution_count": 2,
      "outputs": []
    },
    {
      "cell_type": "code",
      "source": [
        "model = joblib.load(\"mbtimodel/mbtimodel.pkl\")\n",
        "client_id = userdata.get(\"reddit_client_id\")\n",
        "assert client_id is not None\n",
        "client_secret = userdata.get(\"reddit_client_secret\")\n",
        "assert client_secret is not None\n",
        "username = userdata.get(\"reddit_username\")\n",
        "assert username is not None\n",
        "password = userdata.get(\"reddit_password\")\n",
        "assert password is not None\n",
        "app_name = userdata.get(\"reddit_app\")\n",
        "reddit = praw.Reddit(client_id=client_id,\n",
        "                     client_secret=client_secret,\n",
        "                     user_agent=app_name,\n",
        "                     username=username, \\\n",
        "                     password=password)\n",
        "\n",
        "with open(\"mbtimodel/english10000.txt\",'r') as f:\n",
        "    words = f.read().split(\"\\n\")\n",
        "wordset = set(words)\n",
        "indexdict = {None: 0}\n",
        "for i,w in enumerate(words):\n",
        "    indexdict[w] = i\n",
        "def get_distribution(txt):\n",
        "    txtwords = txt.translate(table).lower().split()\n",
        "    dist = [0]*(len(words))\n",
        "    for w in txtwords:\n",
        "        if w in wordset:\n",
        "            dist[indexdict[w]] += 1\n",
        "    tot = sum(dist)\n",
        "    if tot == 0:\n",
        "        return [0]*(len(words))\n",
        "    return [d/tot for d in dist]"
      ],
      "metadata": {
        "id": "sVuG23wMt9P3"
      },
      "execution_count": 3,
      "outputs": []
    },
    {
      "cell_type": "code",
      "source": [
        "def noquotes(text):\n",
        "    \"\"\"\n",
        "This function first stated out as a way to remove markdown quotes from raw reddit markdown text but now it's more of a\n",
        "general purpose text parser, but the name hasn't changed.\n",
        "    \"\"\"\n",
        "    #https://stackoverflow.com/questions/761824/python-how-to-convert-markdown-formatted-text-to-text\n",
        "    html = markdown.markdown(text)\n",
        "    text = ''.join(bs4.BeautifulSoup(html, 'lxml').findAll(string=True))\n",
        "    t1 = re.sub(\">.+?(\\n|$)\",\"\",text).replace(\"\\\\n\",\"\").replace(\"\\\\\",\"\")\n",
        "    return t1\n",
        "\n",
        "def predict_mbti_txt(txt):\n",
        "    dists = get_distribution(txt)\n",
        "    proba = model.predict_proba([dists])[0]\n",
        "    classes = model.classes_\n",
        "    output = pd.DataFrame()\n",
        "    output['Personality'] = classes\n",
        "    output['Probability'] = proba\n",
        "    output.sort_values('Probability', inplace=True, ascending = False)\n",
        "    return output\n",
        "\n",
        "def predict_user(username):\n",
        "    try:\n",
        "        comms = list(reddit.redditor(username).comments.new(limit=None))\n",
        "        subs = list(reddit.redditor(username).submissions.new(limit=None))\n",
        "        text = []\n",
        "        ups = 0\n",
        "        downs = 0\n",
        "        for comment in comms:\n",
        "            text.append(noquotes(comment.body))\n",
        "            votes = comment.ups - 1\n",
        "            if comment.controversiality == 1:\n",
        "                extent = abs(votes)*1.5 + 3\n",
        "                ups += int(round(votes + extent))\n",
        "                downs += int(round(votes - extent))\n",
        "            else:\n",
        "                if votes > 0:\n",
        "                    ups += votes\n",
        "                else:\n",
        "                    downs += votes\n",
        "        for sub in subs:\n",
        "            newsub = noquotes(sub.selftext)\n",
        "            if len(newsub) > 0:\n",
        "                text.append(newsub)\n",
        "        fulltext = \" \".join(text)\n",
        "        A = abs(ups)\n",
        "        B = abs(downs)\n",
        "        controversiality = B/(A+B)\n",
        "        return predict_mbti_txt(fulltext), controversiality\n",
        "    except NotFound:\n",
        "        return None, None"
      ],
      "metadata": {
        "id": "-6PyO6B8t_Jr"
      },
      "execution_count": 4,
      "outputs": []
    },
    {
      "cell_type": "code",
      "source": [
        "predict_user(\"thisisbillgates\")"
      ],
      "metadata": {
        "colab": {
          "base_uri": "https://localhost:8080/"
        },
        "id": "wQPw8F46AGAg",
        "outputId": "0f03c254-d77c-4d9e-84ab-6bc5d8a8c8b4"
      },
      "execution_count": 6,
      "outputs": [
        {
          "output_type": "stream",
          "name": "stderr",
          "text": [
            "WARNING:praw:It appears that you are using PRAW in an asynchronous environment.\n",
            "It is strongly recommended to use Async PRAW: https://asyncpraw.readthedocs.io.\n",
            "See https://praw.readthedocs.io/en/latest/getting_started/multiple_instances.html#discord-bots-and-asynchronous-environments for more info.\n",
            "\n",
            "WARNING:praw:It appears that you are using PRAW in an asynchronous environment.\n",
            "It is strongly recommended to use Async PRAW: https://asyncpraw.readthedocs.io.\n",
            "See https://praw.readthedocs.io/en/latest/getting_started/multiple_instances.html#discord-bots-and-asynchronous-environments for more info.\n",
            "\n",
            "WARNING:praw:It appears that you are using PRAW in an asynchronous environment.\n",
            "It is strongly recommended to use Async PRAW: https://asyncpraw.readthedocs.io.\n",
            "See https://praw.readthedocs.io/en/latest/getting_started/multiple_instances.html#discord-bots-and-asynchronous-environments for more info.\n",
            "\n",
            "WARNING:praw:It appears that you are using PRAW in an asynchronous environment.\n",
            "It is strongly recommended to use Async PRAW: https://asyncpraw.readthedocs.io.\n",
            "See https://praw.readthedocs.io/en/latest/getting_started/multiple_instances.html#discord-bots-and-asynchronous-environments for more info.\n",
            "\n",
            "WARNING:praw:It appears that you are using PRAW in an asynchronous environment.\n",
            "It is strongly recommended to use Async PRAW: https://asyncpraw.readthedocs.io.\n",
            "See https://praw.readthedocs.io/en/latest/getting_started/multiple_instances.html#discord-bots-and-asynchronous-environments for more info.\n",
            "\n",
            "WARNING:praw:It appears that you are using PRAW in an asynchronous environment.\n",
            "It is strongly recommended to use Async PRAW: https://asyncpraw.readthedocs.io.\n",
            "See https://praw.readthedocs.io/en/latest/getting_started/multiple_instances.html#discord-bots-and-asynchronous-environments for more info.\n",
            "\n",
            "WARNING:praw:It appears that you are using PRAW in an asynchronous environment.\n",
            "It is strongly recommended to use Async PRAW: https://asyncpraw.readthedocs.io.\n",
            "See https://praw.readthedocs.io/en/latest/getting_started/multiple_instances.html#discord-bots-and-asynchronous-environments for more info.\n",
            "\n"
          ]
        },
        {
          "output_type": "execute_result",
          "data": {
            "text/plain": [
              "(   Personality   Probability\n",
              " 7         ESTP  1.000000e+00\n",
              " 10        INTJ  4.020477e-26\n",
              " 8         INFJ  3.591666e-26\n",
              " 11        INTP  2.872673e-26\n",
              " 9         INFP  2.343722e-26\n",
              " 1         ENFP  1.472749e-26\n",
              " 3         ENTP  1.372623e-26\n",
              " 15        ISTP  6.764860e-27\n",
              " 6         ESTJ  5.860599e-27\n",
              " 13        ISFP  4.856838e-27\n",
              " 2         ENTJ  3.813325e-27\n",
              " 14        ISTJ  3.193561e-27\n",
              " 0         ENFJ  2.668864e-27\n",
              " 12        ISFJ  1.335680e-27\n",
              " 4         ESFJ  5.138316e-29\n",
              " 5         ESFP  4.202982e-30,\n",
              " 0.0)"
            ]
          },
          "metadata": {},
          "execution_count": 6
        }
      ]
    },
    {
      "cell_type": "code",
      "source": [],
      "metadata": {
        "id": "tOTKohWWAM1I"
      },
      "execution_count": 5,
      "outputs": []
    }
  ]
}