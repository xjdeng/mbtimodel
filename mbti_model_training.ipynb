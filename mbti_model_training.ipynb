{
  "nbformat": 4,
  "nbformat_minor": 0,
  "metadata": {
    "colab": {
      "provenance": [],
      "authorship_tag": "ABX9TyOBBTkg2xJEz/JSbjdEg15d",
      "include_colab_link": true
    },
    "kernelspec": {
      "name": "python3",
      "display_name": "Python 3"
    },
    "language_info": {
      "name": "python"
    }
  },
  "cells": [
    {
      "cell_type": "markdown",
      "metadata": {
        "id": "view-in-github",
        "colab_type": "text"
      },
      "source": [
        "<a href=\"https://colab.research.google.com/github/xjdeng/mbtimodel/blob/main/mbti_model_training.ipynb\" target=\"_parent\"><img src=\"https://colab.research.google.com/assets/colab-badge.svg\" alt=\"Open In Colab\"/></a>"
      ]
    },
    {
      "cell_type": "code",
      "source": [
        "from google.colab import drive\n",
        "drive.mount('/content/drive')\n",
        "!git clone https://github.com/xjdeng/mbtimodel\n",
        "!pip install -r mbtimodel/requirements.txt"
      ],
      "metadata": {
        "id": "4NNufS9kbnA0"
      },
      "execution_count": null,
      "outputs": []
    },
    {
      "cell_type": "code",
      "execution_count": null,
      "metadata": {
        "id": "dEKduJm5bMzD"
      },
      "outputs": [],
      "source": [
        "from sklearn.ensemble import GradientBoostingClassifier\n",
        "import pandas as pd\n",
        "import numpy as np\n",
        "import string\n",
        "table = str.maketrans('', '', string.punctuation)\n",
        "import time\n",
        "from imblearn.over_sampling import RandomOverSampler\n",
        "import sklearn\n",
        "import joblib\n",
        "print(sklearn.__version__)"
      ]
    },
    {
      "cell_type": "code",
      "source": [
        "with open(\"mbtimodel/english10000.txt\",'r') as f:\n",
        "    words = f.read().split(\"\\n\")\n",
        "wordset = set(words)\n",
        "indexdict = {None: 0}\n",
        "for i,w in enumerate(words):\n",
        "    indexdict[w] = i\n",
        "def get_distribution(txt):\n",
        "    txtwords = txt.translate(table).lower().split()\n",
        "    dist = [0]*(len(words))\n",
        "    for w in txtwords:\n",
        "        if w in wordset:\n",
        "            dist[indexdict[w]] += 1\n",
        "    tot = sum(dist)\n",
        "    if tot == 0:\n",
        "        return [0]*(len(words))\n",
        "    return [d/tot for d in dist]"
      ],
      "metadata": {
        "id": "ShqMwvZhbvV7"
      },
      "execution_count": null,
      "outputs": []
    },
    {
      "cell_type": "code",
      "source": [
        "mbti = pd.read_csv(\"mbtimodel/mbti.zip\")\n",
        "mbti.head()"
      ],
      "metadata": {
        "id": "OObJXySwb8Jm"
      },
      "execution_count": null,
      "outputs": []
    },
    {
      "cell_type": "code",
      "source": [
        "types = set(mbti['type'])\n",
        "for t in types:\n",
        "  print(f\"Type: {t}, Count: {len(mbti[mbti['type'] == t])}\")"
      ],
      "metadata": {
        "id": "k7f8lANCb_4S"
      },
      "execution_count": null,
      "outputs": []
    },
    {
      "cell_type": "code",
      "source": [
        "x = np.array([get_distribution(p) for p in mbti['posts']])\n",
        "y = np.array(mbti['type'])\n"
      ],
      "metadata": {
        "id": "hdinFf6Rccdk"
      },
      "execution_count": null,
      "outputs": []
    },
    {
      "cell_type": "code",
      "source": [
        "oversample = RandomOverSampler(sampling_strategy='minority')\n",
        "X,Y = oversample.fit_resample(x, y)\n",
        "rf = GradientBoostingClassifier()\n",
        "rf.fit(X,Y)"
      ],
      "metadata": {
        "id": "wB9PEObXdS-L"
      },
      "execution_count": null,
      "outputs": []
    },
    {
      "cell_type": "code",
      "source": [
        "joblib.dump(rf,\"/content/drive/MyDrive/mbtimodel.pkl\")"
      ],
      "metadata": {
        "id": "vs3PJhg7jXpN"
      },
      "execution_count": null,
      "outputs": []
    },
    {
      "cell_type": "code",
      "source": [
        "def get_prediction(txt):\n",
        "  dist = get_distribution(txt)\n",
        "  return rf.predict([dist])[0]"
      ],
      "metadata": {
        "id": "PRtBVOfEOFUd"
      },
      "execution_count": null,
      "outputs": []
    },
    {
      "cell_type": "code",
      "source": [
        "get_prediction(\"Hello World\")"
      ],
      "metadata": {
        "id": "yV12VCuyONvx"
      },
      "execution_count": null,
      "outputs": []
    },
    {
      "cell_type": "code",
      "source": [
        "from sklearn.metrics import confusion_matrix, ConfusionMatrixDisplay\n",
        "from sklearn.model_selection import train_test_split\n",
        "import matplotlib.pyplot as plt"
      ],
      "metadata": {
        "id": "faV12fSMOPcK"
      },
      "execution_count": null,
      "outputs": []
    },
    {
      "cell_type": "code",
      "source": [
        "x_train, x_test, y_train, y_test = train_test_split(x, y, test_size = 0.2,\n",
        "                                                    random_state=0, stratify=y)"
      ],
      "metadata": {
        "id": "BHDMfwOMO7U0"
      },
      "execution_count": null,
      "outputs": []
    },
    {
      "cell_type": "code",
      "source": [
        "oversample2 = RandomOverSampler(sampling_strategy='minority')\n",
        "x_train2, y_train2 = oversample2.fit_resample(x_train, y_train)"
      ],
      "metadata": {
        "id": "HZFDokCuPEGi"
      },
      "execution_count": null,
      "outputs": []
    },
    {
      "cell_type": "code",
      "source": [
        "rf2 = GradientBoostingClassifier()\n",
        "rf2.fit(x_train2, y_train2)"
      ],
      "metadata": {
        "id": "ATVsa7Y9PU-M"
      },
      "execution_count": null,
      "outputs": []
    },
    {
      "cell_type": "code",
      "source": [
        "y_pred = rf2.predict(x_test)"
      ],
      "metadata": {
        "id": "6NW0TpXGPbyM"
      },
      "execution_count": null,
      "outputs": []
    },
    {
      "cell_type": "code",
      "source": [
        "from sklearn.metrics import f1_score"
      ],
      "metadata": {
        "id": "opwxTDU-P-cf"
      },
      "execution_count": null,
      "outputs": []
    },
    {
      "cell_type": "code",
      "source": [
        "f1_score(y_pred, y_test, average='micro')"
      ],
      "metadata": {
        "id": "N7UqJla5QHkq"
      },
      "execution_count": null,
      "outputs": []
    },
    {
      "cell_type": "code",
      "source": [
        "cm = confusion_matrix(y_test, y_pred, labels=rf2.classes_)"
      ],
      "metadata": {
        "id": "YGfy15MZQPsF"
      },
      "execution_count": null,
      "outputs": []
    },
    {
      "cell_type": "code",
      "source": [
        "disp = ConfusionMatrixDisplay(confusion_matrix=cm,\n",
        "                              display_labels=rf2.classes_)"
      ],
      "metadata": {
        "id": "onyJ6rBnQeEA"
      },
      "execution_count": null,
      "outputs": []
    },
    {
      "cell_type": "code",
      "source": [
        "disp.plot()"
      ],
      "metadata": {
        "id": "IgVW3TLvQhse"
      },
      "execution_count": null,
      "outputs": []
    },
    {
      "cell_type": "code",
      "source": [],
      "metadata": {
        "id": "AxduLwPsQjTg"
      },
      "execution_count": null,
      "outputs": []
    }
  ]
}